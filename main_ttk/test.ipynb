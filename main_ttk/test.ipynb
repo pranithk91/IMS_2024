{
 "cells": [
  {
   "cell_type": "code",
   "execution_count": 2,
   "metadata": {},
   "outputs": [],
   "source": [
    "import tkinter as tk\n",
    "from tkinter import messagebox\n",
    "\n",
    "def check_length(event):\n",
    "    user_input = entry.get()\n",
    "    if len(user_input) != 10:\n",
    "        messagebox.showwarning(\"Warning\", \"Input must be 10 digits.\")\n",
    "\n",
    "root = tk.Tk()\n",
    "root.title(\"Input Length Checker\")\n",
    "\n",
    "label = tk.Label(root, text=\"Enter 10-digit input:\")\n",
    "label.pack(pady=5)\n",
    "\n",
    "entry = tk.Entry(root)\n",
    "entry2 = tk.Entry(root)\n",
    "entry.pack(pady=5)\n",
    "entry2.pack(pady=10)\n",
    "entry.bind(\"<FocusOut>\", check_length)  # Bind event listener to check length when focus leaves the entry field\n",
    "\n",
    "root.mainloop()\n"
   ]
  }
 ],
 "metadata": {
  "kernelspec": {
   "display_name": "Python 3",
   "language": "python",
   "name": "python3"
  },
  "language_info": {
   "codemirror_mode": {
    "name": "ipython",
    "version": 3
   },
   "file_extension": ".py",
   "mimetype": "text/x-python",
   "name": "python",
   "nbconvert_exporter": "python",
   "pygments_lexer": "ipython3",
   "version": "3.10.11"
  }
 },
 "nbformat": 4,
 "nbformat_minor": 2
}
