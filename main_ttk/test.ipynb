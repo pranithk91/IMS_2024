{
 "cells": [
  {
   "cell_type": "code",
   "execution_count": 7,
   "metadata": {},
   "outputs": [
    {
     "ename": "FileNotFoundError",
     "evalue": "[Errno 2] No such file or directory: 'main_ttk\\\\sheets-to-python-credential.json'",
     "output_type": "error",
     "traceback": [
      "\u001b[1;31m---------------------------------------------------------------------------\u001b[0m",
      "\u001b[1;31mFileNotFoundError\u001b[0m                         Traceback (most recent call last)",
      "Cell \u001b[1;32mIn[7], line 13\u001b[0m\n\u001b[0;32m      7\u001b[0m SCOPES \u001b[38;5;241m=\u001b[39m [\n\u001b[0;32m      8\u001b[0m \u001b[38;5;124m'\u001b[39m\u001b[38;5;124mhttps://www.googleapis.com/auth/spreadsheets\u001b[39m\u001b[38;5;124m'\u001b[39m,\n\u001b[0;32m      9\u001b[0m \u001b[38;5;124m'\u001b[39m\u001b[38;5;124mhttps://www.googleapis.com/auth/drive\u001b[39m\u001b[38;5;124m'\u001b[39m\n\u001b[0;32m     10\u001b[0m ]\n\u001b[0;32m     11\u001b[0m SERVICE_ACCOUNT_FILE \u001b[38;5;241m=\u001b[39m \u001b[38;5;124m'\u001b[39m\u001b[38;5;124mmain_ttk\u001b[39m\u001b[38;5;124m\\\u001b[39m\u001b[38;5;124msheets-to-python-credential.json\u001b[39m\u001b[38;5;124m'\u001b[39m\n\u001b[1;32m---> 13\u001b[0m credentials \u001b[38;5;241m=\u001b[39m \u001b[43mservice_account\u001b[49m\u001b[38;5;241;43m.\u001b[39;49m\u001b[43mCredentials\u001b[49m\u001b[38;5;241;43m.\u001b[39;49m\u001b[43mfrom_service_account_file\u001b[49m\u001b[43m(\u001b[49m\n\u001b[0;32m     14\u001b[0m \u001b[43m        \u001b[49m\u001b[43mSERVICE_ACCOUNT_FILE\u001b[49m\u001b[43m,\u001b[49m\u001b[43m \u001b[49m\u001b[43mscopes\u001b[49m\u001b[38;5;241;43m=\u001b[39;49m\u001b[43mSCOPES\u001b[49m\u001b[43m)\u001b[49m\n\u001b[0;32m     16\u001b[0m client \u001b[38;5;241m=\u001b[39m gs\u001b[38;5;241m.\u001b[39mauthorize(credentials)\n\u001b[0;32m     18\u001b[0m Spread \u001b[38;5;241m=\u001b[39m client\u001b[38;5;241m.\u001b[39mopen(\u001b[38;5;124m\"\u001b[39m\u001b[38;5;124mOP Register Dev\u001b[39m\u001b[38;5;124m\"\u001b[39m)\n",
      "File \u001b[1;32m~\\AppData\\Local\\Packages\\PythonSoftwareFoundation.Python.3.11_qbz5n2kfra8p0\\LocalCache\\local-packages\\Python311\\site-packages\\google\\oauth2\\service_account.py:260\u001b[0m, in \u001b[0;36mCredentials.from_service_account_file\u001b[1;34m(cls, filename, **kwargs)\u001b[0m\n\u001b[0;32m    248\u001b[0m \u001b[38;5;129m@classmethod\u001b[39m\n\u001b[0;32m    249\u001b[0m \u001b[38;5;28;01mdef\u001b[39;00m \u001b[38;5;21mfrom_service_account_file\u001b[39m(\u001b[38;5;28mcls\u001b[39m, filename, \u001b[38;5;241m*\u001b[39m\u001b[38;5;241m*\u001b[39mkwargs):\n\u001b[0;32m    250\u001b[0m \u001b[38;5;250m    \u001b[39m\u001b[38;5;124;03m\"\"\"Creates a Credentials instance from a service account json file.\u001b[39;00m\n\u001b[0;32m    251\u001b[0m \n\u001b[0;32m    252\u001b[0m \u001b[38;5;124;03m    Args:\u001b[39;00m\n\u001b[1;32m   (...)\u001b[0m\n\u001b[0;32m    258\u001b[0m \u001b[38;5;124;03m            credentials.\u001b[39;00m\n\u001b[0;32m    259\u001b[0m \u001b[38;5;124;03m    \"\"\"\u001b[39;00m\n\u001b[1;32m--> 260\u001b[0m     info, signer \u001b[38;5;241m=\u001b[39m \u001b[43m_service_account_info\u001b[49m\u001b[38;5;241;43m.\u001b[39;49m\u001b[43mfrom_filename\u001b[49m\u001b[43m(\u001b[49m\n\u001b[0;32m    261\u001b[0m \u001b[43m        \u001b[49m\u001b[43mfilename\u001b[49m\u001b[43m,\u001b[49m\u001b[43m \u001b[49m\u001b[43mrequire\u001b[49m\u001b[38;5;241;43m=\u001b[39;49m\u001b[43m[\u001b[49m\u001b[38;5;124;43m\"\u001b[39;49m\u001b[38;5;124;43mclient_email\u001b[39;49m\u001b[38;5;124;43m\"\u001b[39;49m\u001b[43m,\u001b[49m\u001b[43m \u001b[49m\u001b[38;5;124;43m\"\u001b[39;49m\u001b[38;5;124;43mtoken_uri\u001b[39;49m\u001b[38;5;124;43m\"\u001b[39;49m\u001b[43m]\u001b[49m\n\u001b[0;32m    262\u001b[0m \u001b[43m    \u001b[49m\u001b[43m)\u001b[49m\n\u001b[0;32m    263\u001b[0m     \u001b[38;5;28;01mreturn\u001b[39;00m \u001b[38;5;28mcls\u001b[39m\u001b[38;5;241m.\u001b[39m_from_signer_and_info(signer, info, \u001b[38;5;241m*\u001b[39m\u001b[38;5;241m*\u001b[39mkwargs)\n",
      "File \u001b[1;32m~\\AppData\\Local\\Packages\\PythonSoftwareFoundation.Python.3.11_qbz5n2kfra8p0\\LocalCache\\local-packages\\Python311\\site-packages\\google\\auth\\_service_account_info.py:78\u001b[0m, in \u001b[0;36mfrom_filename\u001b[1;34m(filename, require, use_rsa_signer)\u001b[0m\n\u001b[0;32m     64\u001b[0m \u001b[38;5;28;01mdef\u001b[39;00m \u001b[38;5;21mfrom_filename\u001b[39m(filename, require\u001b[38;5;241m=\u001b[39m\u001b[38;5;28;01mNone\u001b[39;00m, use_rsa_signer\u001b[38;5;241m=\u001b[39m\u001b[38;5;28;01mTrue\u001b[39;00m):\n\u001b[0;32m     65\u001b[0m \u001b[38;5;250m    \u001b[39m\u001b[38;5;124;03m\"\"\"Reads a Google service account JSON file and returns its parsed info.\u001b[39;00m\n\u001b[0;32m     66\u001b[0m \n\u001b[0;32m     67\u001b[0m \u001b[38;5;124;03m    Args:\u001b[39;00m\n\u001b[1;32m   (...)\u001b[0m\n\u001b[0;32m     76\u001b[0m \u001b[38;5;124;03m            info and a signer instance.\u001b[39;00m\n\u001b[0;32m     77\u001b[0m \u001b[38;5;124;03m    \"\"\"\u001b[39;00m\n\u001b[1;32m---> 78\u001b[0m     \u001b[38;5;28;01mwith\u001b[39;00m \u001b[43mio\u001b[49m\u001b[38;5;241;43m.\u001b[39;49m\u001b[43mopen\u001b[49m\u001b[43m(\u001b[49m\u001b[43mfilename\u001b[49m\u001b[43m,\u001b[49m\u001b[43m \u001b[49m\u001b[38;5;124;43m\"\u001b[39;49m\u001b[38;5;124;43mr\u001b[39;49m\u001b[38;5;124;43m\"\u001b[39;49m\u001b[43m,\u001b[49m\u001b[43m \u001b[49m\u001b[43mencoding\u001b[49m\u001b[38;5;241;43m=\u001b[39;49m\u001b[38;5;124;43m\"\u001b[39;49m\u001b[38;5;124;43mutf-8\u001b[39;49m\u001b[38;5;124;43m\"\u001b[39;49m\u001b[43m)\u001b[49m \u001b[38;5;28;01mas\u001b[39;00m json_file:\n\u001b[0;32m     79\u001b[0m         data \u001b[38;5;241m=\u001b[39m json\u001b[38;5;241m.\u001b[39mload(json_file)\n\u001b[0;32m     80\u001b[0m         \u001b[38;5;28;01mreturn\u001b[39;00m data, from_dict(data, require\u001b[38;5;241m=\u001b[39mrequire, use_rsa_signer\u001b[38;5;241m=\u001b[39muse_rsa_signer)\n",
      "\u001b[1;31mFileNotFoundError\u001b[0m: [Errno 2] No such file or directory: 'main_ttk\\\\sheets-to-python-credential.json'"
     ]
    }
   ],
   "source": [
    "import tkinter as tk\n",
    "from tkinter import ttk\n",
    "from reportlab.pdfgen import canvas\n",
    "\n",
    "def print_invoice():\n",
    "    # Retrieve selected item from TreeView\n",
    "    selected_item = tree.selection()\n",
    "\n",
    "    if not selected_item:\n",
    "        print(\"No item selected\")\n",
    "        return\n",
    "\n",
    "    # Get values of selected item\n",
    "    values = tree.item(selected_item)['values']\n",
    "\n",
    "    # Extract data\n",
    "    date = values[0]\n",
    "    invoice_number = values[1]\n",
    "    item_name = values[2]\n",
    "    quantity = values[3]\n",
    "    price = values[4]\n",
    "    total_amount = values[5]\n",
    "\n",
    "    # Create PDF invoice\n",
    "    pdf_filename = f\"Invoice_{invoice_number}.pdf\"\n",
    "    c = canvas.Canvas(pdf_filename)\n",
    "\n",
    "    # Set up PDF content\n",
    "    c.drawString(100, 750, \"Invoice\")\n",
    "    c.drawString(100, 730, f\"Date: {date}\")\n",
    "    c.drawString(100, 710, f\"Invoice Number: {invoice_number}\")\n",
    "    c.drawString(100, 690, f\"Item Name: {item_name}\")\n",
    "    c.drawString(100, 670, f\"Quantity: {quantity}\")\n",
    "    c.drawString(100, 650, f\"Price: {price}\")\n",
    "    c.drawString(100, 630, f\"Total Amount: {total_amount}\")\n",
    "\n",
    "    # Save PDF file\n",
    "    c.save()\n",
    "\n",
    "    print(f\"PDF invoice created: {pdf_filename}\")\n",
    "\n",
    "# Create Tkinter window\n",
    "root = tk.Tk()\n",
    "root.title(\"PDF Invoice Generator\")\n",
    "\n",
    "# Create TreeView\n",
    "columns = (\"Date\", \"Invoice Number\", \"Item Name\", \"Quantity\", \"Price\", \"Total Amount\")\n",
    "tree = ttk.Treeview(root, columns=columns, show=\"headings\")\n",
    "\n",
    "# Insert sample data\n",
    "sample_data = [(\"2024-02-01\", \"INV001\", \"Product A\", 2, 25.00, 50.00),\n",
    "               (\"2024-02-02\", \"INV002\", \"Product B\", 1, 30.00, 30.00),\n",
    "               (\"2024-02-03\", \"INV003\", \"Product C\", 3, 15.00, 45.00)]\n",
    "\n",
    "for data in sample_data:\n",
    "    tree.insert(\"\", \"end\", values=data)\n",
    "\n",
    "# Add TreeView column headings\n",
    "for col in columns:\n",
    "    tree.heading(col, text=col)\n",
    "    tree.column(col, anchor=\"center\", width=100)\n",
    "\n",
    "# Create Print PDF Invoice button\n",
    "print_button = tk.Button(root, text=\"Print PDF Invoice\", command=print_invoice)\n",
    "print_button.pack(pady=10)\n",
    "\n",
    "# Pack the TreeView\n",
    "tree.pack()\n",
    "\n",
    "# Run the Tkinter event loop\n",
    "root.mainloop()\n"
   ]
  }
 ],
 "metadata": {
  "kernelspec": {
   "display_name": "Python 3",
   "language": "python",
   "name": "python3"
  },
  "language_info": {
   "codemirror_mode": {
    "name": "ipython",
    "version": 3
   },
   "file_extension": ".py",
   "mimetype": "text/x-python",
   "name": "python",
   "nbconvert_exporter": "python",
   "pygments_lexer": "ipython3",
   "version": "3.11.7"
  }
 },
 "nbformat": 4,
 "nbformat_minor": 2
}
