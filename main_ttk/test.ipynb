{
 "cells": [
  {
   "cell_type": "code",
   "execution_count": null,
   "metadata": {},
   "outputs": [],
   "source": [
    "\n",
    "\n",
    "alphabets = ['A', 'B', 'C', 'a','e','d','c','b'] \n",
    "alphabets.sort() \n",
    "print(alphabets) \n",
    "  \n",
    "random_numbers = [2,5,6,1,8,3] \n",
    "random_numbers.sort() \n",
    "print(random_numbers)"
   ]
  }
 ],
 "metadata": {
  "kernelspec": {
   "display_name": "Python 3",
   "language": "python",
   "name": "python3"
  },
  "language_info": {
   "name": "python",
   "version": "3.11.7"
  }
 },
 "nbformat": 4,
 "nbformat_minor": 2
}
